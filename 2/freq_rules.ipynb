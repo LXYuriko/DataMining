{
  "nbformat": 4,
  "nbformat_minor": 5,
  "metadata": {
    "kernelspec": {
      "display_name": "Python 3",
      "language": "python",
      "name": "python3"
    },
    "language_info": {
      "codemirror_mode": {
        "name": "ipython",
        "version": 3
      },
      "file_extension": ".py",
      "mimetype": "text/x-python",
      "name": "python",
      "nbconvert_exporter": "python",
      "pygments_lexer": "ipython3",
      "version": "3.8.8"
    },
    "colab": {
      "name": "freq_rules.ipynb",
      "provenance": [],
      "collapsed_sections": []
    }
  },
  "cells": [
    {
      "cell_type": "markdown",
      "metadata": {
        "id": "WXKBGZN8ppP1"
      },
      "source": [
        "# 1. 问题描述\n",
        "本次作业中，将选择1个数据集进行频繁模式和关联规则挖掘。\n",
        "# 2. 数据说明\n",
        "数据集包括：\n",
        "*   Consumer & Visitor Insights For Neighborhoods\n",
        "*   Wine Reviews\n",
        "*   Oakland Crime Statistics 2011 to 2016\n",
        "*   Chicago Building Violations\n",
        "*   Trending YouTube Video Statistics\n",
        "*   Melbourne Airbnb Open Data\n",
        "*   MLB Pitch Data 2015-2018\n",
        "\n",
        "与第一次互评作业的数据集范围是相同的，在选择的时候可以选择之前预处理的数据集，也可以重新选择一个。\n",
        "\n",
        "# 3. 数据分析要求\n",
        "*   对数据集进行处理，转换成适合进行关联规则挖掘的形式；\n",
        "*   找出频繁模式；\n",
        "*   导出关联规则，计算其支持度和置信度；\n",
        "*   对规则进行评价，可使用Lift、卡方和其它教材中提及的指标, 至少2种；\n",
        "*   对挖掘结果进行分析；\n",
        "*   可视化展示。"
      ],
      "id": "WXKBGZN8ppP1"
    },
    {
      "cell_type": "markdown",
      "metadata": {
        "id": "eUFv4TOnpmK_"
      },
      "source": [
        "# 数据集Wine Reviews\n",
        "\n",
        "---\n",
        "## Description\n",
        "### Context\n",
        "After watching Somm (a documentary on master sommeliers) I wondered how I could create a predictive model to identify wines through blind tasting like a master sommelier would. The first step in this journey was gathering some data to train a model. I plan to use deep learning to predict the wine variety using words in the description/review. The model still won't be able to taste the wine, but theoretically it could identify the wine based on a description that a sommelier could give. If anyone has any ideas on how to accomplish this, please post them!\n",
        "\n",
        "\n",
        "---\n",
        "\n",
        "\n",
        "### Content\n",
        "This dataset contains three files:\n",
        "\n",
        "winemag-data-130k-v2.csv contains 10 columns and 130k rows of wine reviews.\n",
        "\n",
        "winemag-data_first150k.csv contains 10 columns and 150k rows of wine reviews.\n",
        "\n",
        "winemag-data-130k-v2.json contains 6919 nodes of wine reviews.\n",
        "\n",
        "Click on the data tab to see individual file descriptions, column-level metadata and summary statistics.\n",
        "\n",
        "\n",
        "---\n",
        "\n",
        "\n",
        "### Acknowledgements\n",
        "The data was scraped from WineEnthusiast during the week of June 15th, 2017. The code for the scraper can be found here if you have any more specific questions about data collection that I didn't address.\n",
        "\n",
        "UPDATE 11/24/2017 After feedback from users of the dataset I scraped the reviews again on November 22nd, 2017. This time around I collected the title of each review, which you can parse the year out of, the tasters name, and the taster's Twitter handle. This should also fix the duplicate entry issue.\n",
        "\n",
        "\n",
        "---\n",
        "\n",
        "\n",
        "### Inspiration\n",
        "I think that this dataset offers some great opportunities for sentiment analysis and other text related predictive models. My overall goal is to create a model that can identify the variety, winery, and location of a wine based on a description. If anyone has any ideas, breakthroughs, or other interesting insights/models please post them.\n"
      ],
      "id": "eUFv4TOnpmK_"
    },
    {
      "cell_type": "code",
      "metadata": {
        "colab": {
          "base_uri": "https://localhost:8080/"
        },
        "id": "8371a530",
        "outputId": "da154629-929b-4913-f931-1ac8a94a1efb"
      },
      "source": [
        "!pip3 install tqdm"
      ],
      "id": "8371a530",
      "execution_count": 1,
      "outputs": [
        {
          "output_type": "stream",
          "text": [
            "Requirement already satisfied: tqdm in /usr/local/lib/python3.7/dist-packages (4.41.1)\n"
          ],
          "name": "stdout"
        }
      ]
    },
    {
      "cell_type": "code",
      "metadata": {
        "id": "b5a8b278"
      },
      "source": [
        "import numpy as np\n",
        "import scipy as sp\n",
        "import pandas as pd\n",
        "import matplotlib.pyplot as plt\n",
        "import seaborn as sns\n",
        "import json\n",
        "import math\n",
        "import re\n",
        "import sys\n",
        "import csv"
      ],
      "id": "b5a8b278",
      "execution_count": 2,
      "outputs": []
    },
    {
      "cell_type": "code",
      "metadata": {
        "colab": {
          "base_uri": "https://localhost:8080/"
        },
        "id": "13ee6911",
        "outputId": "2092bc9e-e4f0-4f56-c1eb-6774409754c3"
      },
      "source": [
        "import os\n",
        "from google.colab import drive\n",
        "drive.mount('/content/drive') # mount google drive\n",
        "co_path = '/content/drive/My Drive/Colab Notebooks/datamining'\n",
        "os.chdir(co_path)\n",
        "os.listdir(co_path)"
      ],
      "id": "13ee6911",
      "execution_count": 3,
      "outputs": [
        {
          "output_type": "stream",
          "text": [
            "Mounted at /content/drive\n"
          ],
          "name": "stdout"
        },
        {
          "output_type": "execute_result",
          "data": {
            "text/plain": [
              "['wine_review', 'Chicago_Building_Violations', 'wine_result']"
            ]
          },
          "metadata": {
            "tags": []
          },
          "execution_count": 3
        }
      ]
    },
    {
      "cell_type": "code",
      "metadata": {
        "id": "6bb1805d"
      },
      "source": [
        "from tqdm import tqdm\n",
        "from progressbar import *\n",
        "\n",
        "class Association(object):\n",
        "    #首先找出所有频繁项集，然后由频繁项集产生强关联规则\n",
        "    def __init__(self, min_support = 0.1, min_confidence = 0.5):\n",
        "        self.min_support = min_support         # 最小支持度\n",
        "        self.min_confidence = min_confidence   #  最小置信度\n",
        "\n",
        "    def apriori(self, dataset):\n",
        "        \"\"\"\n",
        "        Apriori algorithm\n",
        "        dataset:数据集，类型为一个list，list中每个元素是一个dict，key为属性名，value为对应属性的取值\n",
        "        返回生成的频繁项集\n",
        "        \"\"\"\n",
        "        C1 = self.create_C1(dataset)\n",
        "        dataset = [set(data) for data in dataset]\n",
        "        L1, support_data = self.scan_D(dataset, C1)\n",
        "        L = [L1]\n",
        "        k = 2\n",
        "        while len(L[k-2]) > 0:\n",
        "            Ck = self.apriori_gen(L[k-2], k)\n",
        "            Lk, support_k = self.scan_D(dataset, Ck)\n",
        "            support_data.update(support_k)\n",
        "            L.append(Lk)\n",
        "            k += 1\n",
        "        return L, support_data\n",
        "\n",
        "    def create_C1(self, dataset):\n",
        "        \"\"\"\n",
        "        构建全部可能的单元素候选项集合(list)\n",
        "        每个单元素候选项：（属性名，属性取值）\n",
        "        \"\"\"\n",
        "        C1 = []\n",
        "        progress = ProgressBar()\n",
        "        for data in progress(dataset):\n",
        "            for item in data:\n",
        "                if [item] not in C1:\n",
        "                    C1.append([item])\n",
        "        return [frozenset(item) for item in C1]\n",
        "\n",
        "    def scan_D(self, dataset, Ck):\n",
        "        \"\"\"\n",
        "        根据待选项集Ck的情况，判断数据集D中Ck元素的出现频率\n",
        "        过滤掉低于最小支持度的项集\n",
        "        \"\"\"\n",
        "        Ck_count = dict()\n",
        "        for data in dataset:\n",
        "            for cand in Ck:\n",
        "                if cand.issubset(data):\n",
        "                    if cand not in Ck_count:\n",
        "                        Ck_count[cand] = 1\n",
        "                    else:\n",
        "                        Ck_count[cand] += 1\n",
        "\n",
        "        num_items = float(len(dataset))\n",
        "        return_list = []\n",
        "        support_data = dict()\n",
        "        # 过滤非频繁项集\n",
        "        for key in Ck_count:\n",
        "            support  = Ck_count[key] / num_items\n",
        "            if support >= self.min_support:\n",
        "                return_list.insert(0, key)\n",
        "            support_data[key] = support\n",
        "        return return_list, support_data\n",
        "\n",
        "    def apriori_gen(self, Lk, k):\n",
        "        #合并元素时容易出现重复,针对包含k个元素的频繁项集，对比每个频繁项集第k-2位是否一致\n",
        "        return_list = []\n",
        "        len_Lk = len(Lk)\n",
        "        for i in range(len_Lk):\n",
        "            for j in range(i+1, len_Lk):\n",
        "                # 第k-2个项相同时，将两个集合合并\n",
        "                L1 = list(Lk[i])[:k-2]\n",
        "                L2 = list(Lk[j])[:k-2]\n",
        "                L1.sort()\n",
        "                L2.sort()\n",
        "                if L1 == L2:\n",
        "                    return_list.append(Lk[i] | Lk[j])\n",
        "        return return_list\n",
        "\n",
        "    def generate_rules(self, L, support_data):\n",
        "        \"\"\"\n",
        "        强关联规则\n",
        "        基于Apriori算法，首先从一个频繁项集开始，接着创建一个规则列表，\n",
        "        其中规则右部只包含一个元素，然后对这些规则进行测试。\n",
        "        接下来合并所有的剩余规则列表来创建一个新的规则列表，\n",
        "        其中规则右部包含两个元素。这种方法称作分级法。\n",
        "        L: 频繁项集\n",
        "        support_data: 频繁项集对应的支持度\n",
        "        返回强关联规则列表\n",
        "        \"\"\"\n",
        "        big_rules_list = []\n",
        "        for i in range(1, len(L)):\n",
        "            for freq_set in L[i]:\n",
        "                H1 = [frozenset([item]) for item in freq_set]\n",
        "                # 只获取有两个或更多元素的集合\n",
        "                if i > 1:\n",
        "                    self.rules_from_conseq(freq_set, H1, support_data, big_rules_list)\n",
        "                else:\n",
        "                    self.cal_conf(freq_set, H1, support_data, big_rules_list)\n",
        "        return big_rules_list\n",
        "\n",
        "    def rules_from_conseq(self, freq_set, H, support_data, big_rules_list):\n",
        "        # H->出现在规则右部的元素列表\n",
        "        m = len(H[0])\n",
        "        if len(freq_set) > (m+1):\n",
        "            Hmp1 = self.apriori_gen(H, m+1)\n",
        "            Hmp1 = self.cal_conf(freq_set, Hmp1, support_data, big_rules_list)\n",
        "            if len(Hmp1) > 1:\n",
        "                self.rules_from_conseq(freq_set, Hmp1, support_data, big_rules_list)\n",
        "\n",
        "    def cal_conf(self, freq_set, H, support_data, big_rules_list):\n",
        "        # 评估生成的规则\n",
        "        prunedH = []\n",
        "        for conseq in H:\n",
        "            sup = support_data[freq_set]\n",
        "            conf = sup / support_data[freq_set - conseq]\n",
        "            lift = conf / support_data[freq_set - conseq]\n",
        "            jaccard = sup / (support_data[freq_set - conseq] + support_data[conseq] - sup)\n",
        "            if conf >= self.min_confidence:\n",
        "                big_rules_list.append((freq_set-conseq, conseq, sup, conf, lift,jaccard))\n",
        "                prunedH.append(conseq)\n",
        "        return prunedH"
      ],
      "id": "6bb1805d",
      "execution_count": 4,
      "outputs": []
    },
    {
      "cell_type": "code",
      "metadata": {
        "id": "20c31c6c"
      },
      "source": [
        "class OCS_dataset():\n",
        "    def __init__(self,data_file_path,result_path,feature_list=None):\n",
        "        self.data_file_path = data_file_path\n",
        "        self.feature_list = feature_list\n",
        "        self.result_path = result_path\n",
        "\n",
        "    def set_feature_list(self,feature_list):\n",
        "        self.feature_list = feature_list\n",
        "        \n",
        "    def set_data_file_path(self,data_file_path):\n",
        "        self.data_file_path = data_file_path\n",
        "    \n",
        "    def set_result_path(result_path):\n",
        "        self.result_path = result_path\n",
        "    \n",
        "    def data_read(self):\n",
        "\n",
        "        data150 = pd.read_csv(self.data_file_path+\"/winemag-data_first150k.csv\", encoding=\"utf-8\")\n",
        "        data130 = pd.read_csv(self.data_file_path+\"/winemag-data-130k-v2.csv\", encoding=\"utf-8\")\n",
        "\n",
        "        order=[\"country\", \"description\", \"designation\", \"points\", \"price\", \n",
        "               \"province\", \"region_1\", \"region_2\", \"variety\", \"winery\"]\n",
        "        data150_2 = data150[order]; data130_2 = data130[order]; \n",
        "\n",
        "        data_all = pd.concat([data150_2, data130_2],axis=0)\n",
        "        print(\"合并后的数据集:\"); print(data_all.info())\n",
        "        data_all = data_all.dropna(how='any')\n",
        "\n",
        "        return data_all\n",
        "\n",
        "\n",
        "    def mining(self,min_support = 0.1, min_confidence = 0.5,head_n=None):\n",
        "        out_path = self.result_path\n",
        "        association = Association(min_support=min_support,min_confidence=min_confidence)\n",
        "        data_all = self.data_read()\n",
        "        rows = None\n",
        "        if head_n is None:\n",
        "          rows = data_all.values.tolist()\n",
        "        else:\n",
        "          rows = data_all.head(head_n).values.tolist()\n",
        "\n",
        "        # 将数据转为数据字典存储\n",
        "        dataset = []\n",
        "        feature_names = [\"country\", \"description\", \"designation\", \"points\", \"price\", \n",
        "               \"province\", \"region_1\", \"region_2\", \"variety\", \"winery\"]\n",
        "        for data_line in rows:\n",
        "            data_set = []\n",
        "            for i, value in enumerate(data_line):\n",
        "                if not value:\n",
        "                    data_set.append((feature_names[i], 'NA'))\n",
        "                else:\n",
        "                    data_set.append((feature_names[i], value))\n",
        "            dataset.append(data_set)\n",
        "        print(\"挖掘开始\")\n",
        "        # 获取频繁项集\n",
        "        freq_set, sup_rata = association.apriori(dataset)\n",
        "        sup_rata_out = sorted(sup_rata.items(), key=lambda d: d[1], reverse=True)\n",
        "        # 获取强关联规则列表\n",
        "        strong_rules_list = association.generate_rules(freq_set, sup_rata)\n",
        "        strong_rules_list = sorted(strong_rules_list, key=lambda x: x[3], reverse=True)\n",
        "\n",
        "        print(\"挖掘完成！\")\n",
        "        # 将频繁项集输出到结果文件\n",
        "        freq_set_file = open(os.path.join(out_path, 'frequent_iterms.json'), 'w')\n",
        "        for (key, value) in sup_rata_out:\n",
        "            result_dict = {'set': None, 'sup': None}\n",
        "            set_result = list(key)\n",
        "            sup_result = value\n",
        "            if sup_result < association.min_support:\n",
        "                continue\n",
        "            result_dict['set'] = set_result\n",
        "            result_dict['sup'] = sup_result\n",
        "            json_str = json.dumps(result_dict, ensure_ascii=False)\n",
        "            freq_set_file.write(json_str + '\\n')\n",
        "        freq_set_file.close()\n",
        "\n",
        "        # 将关联规则输出到结果文件\n",
        "        rules_file = open(os.path.join(out_path, 'rules.json'), 'w')\n",
        "        for result in strong_rules_list:\n",
        "            result_dict = {'X_set': None, 'Y_set': None, 'sup': None, 'conf': None, 'lift': None, 'jaccard': None}\n",
        "            X_set, Y_set, sup, conf, lift, jaccard = result\n",
        "            result_dict['X_set'] = list(X_set)\n",
        "            result_dict['Y_set'] = list(Y_set)\n",
        "            result_dict['sup'] = sup\n",
        "            result_dict['conf'] = conf\n",
        "            result_dict['lift'] = lift\n",
        "            result_dict['jaccard'] = jaccard\n",
        "\n",
        "            json_str = json.dumps(result_dict, ensure_ascii=False)\n",
        "            rules_file.write(json_str + '\\n')\n",
        "        rules_file.close()\n",
        "        print(\"结果存储完成！\")"
      ],
      "id": "20c31c6c",
      "execution_count": 5,
      "outputs": []
    },
    {
      "cell_type": "code",
      "metadata": {
        "colab": {
          "base_uri": "https://localhost:8080/"
        },
        "id": "99f6abfd",
        "outputId": "10fb63ea-2677-41e0-8a6c-d7dbbbd99c72"
      },
      "source": [
        "ocs = OCS_dataset(data_file_path=\"./wine_review\",\n",
        "                 result_path=\"./wine_result\")\n",
        "ocs.mining(min_support = 0.1, min_confidence = 0.5,head_n=50000)"
      ],
      "id": "99f6abfd",
      "execution_count": 6,
      "outputs": [
        {
          "output_type": "stream",
          "text": [
            "合并后的数据集:\n",
            "<class 'pandas.core.frame.DataFrame'>\n",
            "Int64Index: 280901 entries, 0 to 129970\n",
            "Data columns (total 10 columns):\n",
            " #   Column       Non-Null Count   Dtype  \n",
            "---  ------       --------------   -----  \n",
            " 0   country      280833 non-null  object \n",
            " 1   description  280901 non-null  object \n",
            " 2   designation  197701 non-null  object \n",
            " 3   points       280901 non-null  int64  \n",
            " 4   price        258210 non-null  float64\n",
            " 5   province     280833 non-null  object \n",
            " 6   region_1     234594 non-null  object \n",
            " 7   region_2     111464 non-null  object \n",
            " 8   variety      280900 non-null  object \n",
            " 9   winery       280901 non-null  object \n",
            "dtypes: float64(1), int64(1), object(8)\n",
            "memory usage: 23.6+ MB\n",
            "None\n"
          ],
          "name": "stdout"
        },
        {
          "output_type": "stream",
          "text": [
            "  1% (611 of 50000) |                    | Elapsed Time: 0:00:00 ETA:   0:00:08"
          ],
          "name": "stderr"
        },
        {
          "output_type": "stream",
          "text": [
            "挖掘开始\n"
          ],
          "name": "stdout"
        },
        {
          "output_type": "stream",
          "text": [
            "100% (50000 of 50000) |##################| Elapsed Time: 0:05:46 Time:  0:05:46\n"
          ],
          "name": "stderr"
        },
        {
          "output_type": "stream",
          "text": [
            "挖掘完成！\n",
            "结果存储完成！\n"
          ],
          "name": "stdout"
        }
      ]
    },
    {
      "cell_type": "markdown",
      "metadata": {
        "id": "dX7VJRMrt4Yg"
      },
      "source": [
        "# 可视化结果"
      ],
      "id": "dX7VJRMrt4Yg"
    },
    {
      "cell_type": "code",
      "metadata": {
        "colab": {
          "base_uri": "https://localhost:8080/",
          "height": 572
        },
        "id": "963d1aa9",
        "outputId": "2a186004-0254-4778-8c2b-faf28cf588df"
      },
      "source": [
        "with open(\"./wine_result/frequent_iterms.json\") as f1:\n",
        "  freq = [json.loads(each) for each in f1.readlines()]\n",
        "  freq_sup = [each[\"sup\"] for each in freq]\n",
        "  plt.figure()\n",
        "  plt.title(\"Frequent item\")\n",
        "  plt.boxplot(freq_sup)\n",
        "  plt.show()\n",
        "\n",
        "with open(\"./wine_result/rules.json\") as f2:\n",
        "  rules = [json.loads(each) for each in f2.readlines()]\n",
        "  rules_sup = [each[\"sup\"] for each in rules]\n",
        "  rules_conf = [each[\"conf\"] for each in rules]\n",
        "  fig=plt.figure(\"rule\")\n",
        "  ax=fig.add_axes([0.1,0.1,0.8,0.8])\n",
        "  ax.set_title(\"Rules\")\n",
        "  ax.scatter(rules_sup, rules_conf, marker='o', color='green')\n",
        "  ax.set_xlabel(\"Support\")\n",
        "  ax.set_ylabel(\"Confidence\")\n",
        "  plt.show()"
      ],
      "id": "963d1aa9",
      "execution_count": 7,
      "outputs": [
        {
          "output_type": "display_data",
          "data": {
            "image/png": "[encoded data removed]",
            "text/plain": [
              "<Figure size 432x288 with 1 Axes>"
            ]
          },
          "metadata": {
            "tags": [],
            "needs_background": "light"
          }
        },
        {
          "output_type": "display_data",
          "data": {
            "image/png": "[encoded data removed]",
            "text/plain": [
              "<Figure size 432x288 with 1 Axes>"
            ]
          },
          "metadata": {
            "tags": [],
            "needs_background": "light"
          }
        }
      ]
    },
    {
      "cell_type": "markdown",
      "metadata": {
        "id": "ocxbsg_kuOoY"
      },
      "source": [
        "# 结果分析\n",
        "## 频繁项集\n",
        "频繁项集按照支持度由大到小排序，结果如下："
      ],
      "id": "ocxbsg_kuOoY"
    },
    {
      "cell_type": "code",
      "metadata": {
        "colab": {
          "base_uri": "https://localhost:8080/"
        },
        "id": "27e4f4ba",
        "outputId": "11cb98e6-7013-4c8f-a578-2ebfcbd9d72d"
      },
      "source": [
        "freq"
      ],
      "id": "27e4f4ba",
      "execution_count": 8,
      "outputs": [
        {
          "output_type": "execute_result",
          "data": {
            "text/plain": [
              "[{'set': [['country', 'US']], 'sup': 1.0},\n",
              " {'set': [['province', 'California']], 'sup': 0.71612},\n",
              " {'set': [['country', 'US'], ['province', 'California']], 'sup': 0.71612},\n",
              " {'set': [['region_2', 'Central Coast']], 'sup': 0.23342},\n",
              " {'set': [['region_2', 'Central Coast'], ['province', 'California']],\n",
              "  'sup': 0.23342},\n",
              " {'set': [['country', 'US'], ['region_2', 'Central Coast']], 'sup': 0.23342},\n",
              " {'set': [['country', 'US'],\n",
              "   ['region_2', 'Central Coast'],\n",
              "   ['province', 'California']],\n",
              "  'sup': 0.23342},\n",
              " {'set': [['region_2', 'Sonoma']], 'sup': 0.19716},\n",
              " {'set': [['province', 'California'], ['region_2', 'Sonoma']], 'sup': 0.19716},\n",
              " {'set': [['country', 'US'], ['region_2', 'Sonoma']], 'sup': 0.19716},\n",
              " {'set': [['country', 'US'],\n",
              "   ['province', 'California'],\n",
              "   ['region_2', 'Sonoma']],\n",
              "  'sup': 0.19716},\n",
              " {'set': [['variety', 'Pinot Noir']], 'sup': 0.19056},\n",
              " {'set': [['country', 'US'], ['variety', 'Pinot Noir']], 'sup': 0.19056},\n",
              " {'set': [['province', 'Washington']], 'sup': 0.15882},\n",
              " {'set': [['country', 'US'], ['province', 'Washington']], 'sup': 0.15882},\n",
              " {'set': [['region_2', 'Columbia Valley']], 'sup': 0.15006},\n",
              " {'set': [['region_2', 'Columbia Valley'], ['province', 'Washington']],\n",
              "  'sup': 0.15006},\n",
              " {'set': [['country', 'US'], ['region_2', 'Columbia Valley']], 'sup': 0.15006},\n",
              " {'set': [['country', 'US'],\n",
              "   ['province', 'Washington'],\n",
              "   ['region_2', 'Columbia Valley']],\n",
              "  'sup': 0.15006},\n",
              " {'set': [['variety', 'Pinot Noir'], ['province', 'California']],\n",
              "  'sup': 0.13726},\n",
              " {'set': [['country', 'US'],\n",
              "   ['variety', 'Pinot Noir'],\n",
              "   ['province', 'California']],\n",
              "  'sup': 0.13726},\n",
              " {'set': [['region_2', 'Napa']], 'sup': 0.12818},\n",
              " {'set': [['region_2', 'Napa'], ['province', 'California']], 'sup': 0.12818},\n",
              " {'set': [['country', 'US'], ['region_2', 'Napa']], 'sup': 0.12818},\n",
              " {'set': [['country', 'US'], ['region_2', 'Napa'], ['province', 'California']],\n",
              "  'sup': 0.12818},\n",
              " {'set': [['points', 87]], 'sup': 0.12466},\n",
              " {'set': [['country', 'US'], ['points', 87]], 'sup': 0.12466},\n",
              " {'set': [['variety', 'Chardonnay']], 'sup': 0.12416},\n",
              " {'set': [['country', 'US'], ['variety', 'Chardonnay']], 'sup': 0.12416},\n",
              " {'set': [['variety', 'Cabernet Sauvignon']], 'sup': 0.12298},\n",
              " {'set': [['variety', 'Cabernet Sauvignon'], ['country', 'US']],\n",
              "  'sup': 0.12298},\n",
              " {'set': [['points', 90]], 'sup': 0.1152},\n",
              " {'set': [['country', 'US'], ['points', 90]], 'sup': 0.1152},\n",
              " {'set': [['points', 88]], 'sup': 0.1083},\n",
              " {'set': [['country', 'US'], ['points', 88]], 'sup': 0.1083},\n",
              " {'set': [['variety', 'Cabernet Sauvignon'], ['province', 'California']],\n",
              "  'sup': 0.10052},\n",
              " {'set': [['variety', 'Cabernet Sauvignon'],\n",
              "   ['country', 'US'],\n",
              "   ['province', 'California']],\n",
              "  'sup': 0.10052}]"
            ]
          },
          "metadata": {
            "tags": []
          },
          "execution_count": 8
        }
      ]
    },
    {
      "cell_type": "markdown",
      "metadata": {
        "id": "2hTiNrzMucuw"
      },
      "source": [
        "## 关联规则\n",
        "将关联规则按照置信度由大到小排序，结果如下。分析可知points的置信度最高，说明葡萄酒的品种属于美国的比较多。"
      ],
      "id": "2hTiNrzMucuw"
    },
    {
      "cell_type": "code",
      "metadata": {
        "colab": {
          "base_uri": "https://localhost:8080/"
        },
        "id": "2b9aa08b",
        "outputId": "a1f7a687-b336-42af-9fd7-7790f16d5d54"
      },
      "source": [
        "rules"
      ],
      "id": "2b9aa08b",
      "execution_count": 9,
      "outputs": [
        {
          "output_type": "execute_result",
          "data": {
            "text/plain": [
              "[{'X_set': [['points', 87]],\n",
              "  'Y_set': [['country', 'US']],\n",
              "  'conf': 1.0,\n",
              "  'jaccard': 0.12466,\n",
              "  'lift': 8.021819348628268,\n",
              "  'sup': 0.12466},\n",
              " {'X_set': [['points', 88]],\n",
              "  'Y_set': [['country', 'US']],\n",
              "  'conf': 1.0,\n",
              "  'jaccard': 0.1083,\n",
              "  'lift': 9.233610341643583,\n",
              "  'sup': 0.1083},\n",
              " {'X_set': [['points', 90]],\n",
              "  'Y_set': [['country', 'US']],\n",
              "  'conf': 1.0,\n",
              "  'jaccard': 0.1152,\n",
              "  'lift': 8.680555555555555,\n",
              "  'sup': 0.1152},\n",
              " {'X_set': [['province', 'Washington']],\n",
              "  'Y_set': [['country', 'US']],\n",
              "  'conf': 1.0,\n",
              "  'jaccard': 0.15882,\n",
              "  'lift': 6.296436217101121,\n",
              "  'sup': 0.15882},\n",
              " {'X_set': [['region_2', 'Columbia Valley']],\n",
              "  'Y_set': [['country', 'US']],\n",
              "  'conf': 1.0,\n",
              "  'jaccard': 0.15006,\n",
              "  'lift': 6.6640010662401705,\n",
              "  'sup': 0.15006},\n",
              " {'X_set': [['region_2', 'Columbia Valley']],\n",
              "  'Y_set': [['province', 'Washington']],\n",
              "  'conf': 1.0,\n",
              "  'jaccard': 0.9448432187381942,\n",
              "  'lift': 6.6640010662401705,\n",
              "  'sup': 0.15006},\n",
              " {'X_set': [['region_2', 'Central Coast']],\n",
              "  'Y_set': [['country', 'US']],\n",
              "  'conf': 1.0,\n",
              "  'jaccard': 0.23342,\n",
              "  'lift': 4.28412304001371,\n",
              "  'sup': 0.23342},\n",
              " {'X_set': [['region_2', 'Central Coast']],\n",
              "  'Y_set': [['province', 'California']],\n",
              "  'conf': 1.0,\n",
              "  'jaccard': 0.32595095794001006,\n",
              "  'lift': 4.28412304001371,\n",
              "  'sup': 0.23342},\n",
              " {'X_set': [['variety', 'Chardonnay']],\n",
              "  'Y_set': [['country', 'US']],\n",
              "  'conf': 1.0,\n",
              "  'jaccard': 0.12416,\n",
              "  'lift': 8.054123711340205,\n",
              "  'sup': 0.12416},\n",
              " {'X_set': [['variety', 'Pinot Noir']],\n",
              "  'Y_set': [['country', 'US']],\n",
              "  'conf': 1.0,\n",
              "  'jaccard': 0.19056,\n",
              "  'lift': 5.247691015952981,\n",
              "  'sup': 0.19056},\n",
              " {'X_set': [['region_2', 'Sonoma']],\n",
              "  'Y_set': [['country', 'US']],\n",
              "  'conf': 1.0,\n",
              "  'jaccard': 0.19716,\n",
              "  'lift': 5.0720227226617975,\n",
              "  'sup': 0.19716},\n",
              " {'X_set': [['region_2', 'Sonoma']],\n",
              "  'Y_set': [['province', 'California']],\n",
              "  'conf': 1.0,\n",
              "  'jaccard': 0.27531698598000337,\n",
              "  'lift': 5.0720227226617975,\n",
              "  'sup': 0.19716},\n",
              " {'X_set': [['province', 'California']],\n",
              "  'Y_set': [['country', 'US']],\n",
              "  'conf': 1.0,\n",
              "  'jaccard': 0.71612,\n",
              "  'lift': 1.3964140088253365,\n",
              "  'sup': 0.71612},\n",
              " {'X_set': [['region_2', 'Napa']],\n",
              "  'Y_set': [['country', 'US']],\n",
              "  'conf': 1.0,\n",
              "  'jaccard': 0.12818,\n",
              "  'lift': 7.801529099703543,\n",
              "  'sup': 0.12818},\n",
              " {'X_set': [['region_2', 'Napa']],\n",
              "  'Y_set': [['province', 'California']],\n",
              "  'conf': 1.0,\n",
              "  'jaccard': 0.17899234765123162,\n",
              "  'lift': 7.801529099703543,\n",
              "  'sup': 0.12818},\n",
              " {'X_set': [['variety', 'Cabernet Sauvignon']],\n",
              "  'Y_set': [['country', 'US']],\n",
              "  'conf': 1.0,\n",
              "  'jaccard': 0.12298,\n",
              "  'lift': 8.131403480240689,\n",
              "  'sup': 0.12298},\n",
              " {'X_set': [['region_2', 'Columbia Valley']],\n",
              "  'Y_set': [['country', 'US'], ['province', 'Washington']],\n",
              "  'conf': 1.0,\n",
              "  'jaccard': 0.9448432187381942,\n",
              "  'lift': 6.6640010662401705,\n",
              "  'sup': 0.15006},\n",
              " {'X_set': [['region_2', 'Central Coast']],\n",
              "  'Y_set': [['country', 'US'], ['province', 'California']],\n",
              "  'conf': 1.0,\n",
              "  'jaccard': 0.32595095794001006,\n",
              "  'lift': 4.28412304001371,\n",
              "  'sup': 0.23342},\n",
              " {'X_set': [['region_2', 'Sonoma']],\n",
              "  'Y_set': [['country', 'US'], ['province', 'California']],\n",
              "  'conf': 1.0,\n",
              "  'jaccard': 0.27531698598000337,\n",
              "  'lift': 5.0720227226617975,\n",
              "  'sup': 0.19716},\n",
              " {'X_set': [['region_2', 'Napa']],\n",
              "  'Y_set': [['country', 'US'], ['province', 'California']],\n",
              "  'conf': 1.0,\n",
              "  'jaccard': 0.17899234765123162,\n",
              "  'lift': 7.801529099703543,\n",
              "  'sup': 0.12818},\n",
              " {'X_set': [['province', 'Washington']],\n",
              "  'Y_set': [['region_2', 'Columbia Valley']],\n",
              "  'conf': 0.9448432187381942,\n",
              "  'jaccard': 0.9448432187381942,\n",
              "  'lift': 5.949145061945563,\n",
              "  'sup': 0.15006},\n",
              " {'X_set': [['province', 'Washington']],\n",
              "  'Y_set': [['country', 'US'], ['region_2', 'Columbia Valley']],\n",
              "  'conf': 0.9448432187381942,\n",
              "  'jaccard': 0.9448432187381942,\n",
              "  'lift': 5.949145061945563,\n",
              "  'sup': 0.15006},\n",
              " {'X_set': [['variety', 'Cabernet Sauvignon']],\n",
              "  'Y_set': [['province', 'California']],\n",
              "  'conf': 0.8173686778337941,\n",
              "  'jaccard': 0.1360990007852907,\n",
              "  'lift': 6.646354511577444,\n",
              "  'sup': 0.10052},\n",
              " {'X_set': [['variety', 'Cabernet Sauvignon']],\n",
              "  'Y_set': [['country', 'US'], ['province', 'California']],\n",
              "  'conf': 0.8173686778337941,\n",
              "  'jaccard': 0.1360990007852907,\n",
              "  'lift': 6.646354511577444,\n",
              "  'sup': 0.10052},\n",
              " {'X_set': [['variety', 'Pinot Noir']],\n",
              "  'Y_set': [['province', 'California']],\n",
              "  'conf': 0.720298068849706,\n",
              "  'jaccard': 0.17839411504769825,\n",
              "  'lift': 3.7799017047108836,\n",
              "  'sup': 0.13726},\n",
              " {'X_set': [['variety', 'Pinot Noir']],\n",
              "  'Y_set': [['country', 'US'], ['province', 'California']],\n",
              "  'conf': 0.720298068849706,\n",
              "  'jaccard': 0.17839411504769825,\n",
              "  'lift': 3.7799017047108836,\n",
              "  'sup': 0.13726},\n",
              " {'X_set': [['country', 'US']],\n",
              "  'Y_set': [['province', 'California']],\n",
              "  'conf': 0.71612,\n",
              "  'jaccard': 0.71612,\n",
              "  'lift': 0.71612,\n",
              "  'sup': 0.71612}]"
            ]
          },
          "metadata": {
            "tags": []
          },
          "execution_count": 9
        }
      ]
    }
  ]
}